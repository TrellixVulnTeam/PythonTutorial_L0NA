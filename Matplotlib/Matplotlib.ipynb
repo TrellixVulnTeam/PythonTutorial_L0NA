{
 "cells": [
  {
   "cell_type": "code",
   "execution_count": 1,
   "id": "0ac0c8e9-4bde-45af-9493-246cb80acb8a",
   "metadata": {},
   "outputs": [],
   "source": [
    "import matplotlib.pyplot as plt\n",
    "import numpy as np\n",
    "import pandas as pd"
   ]
  },
  {
   "cell_type": "code",
   "execution_count": 2,
   "id": "8a52654f-d7cd-4637-bfdc-e2f973e98122",
   "metadata": {},
   "outputs": [
    {
     "name": "stdout",
     "output_type": "stream",
     "text": [
      "          a         b         c         d         e\n",
      "0  0.658220  0.895955  0.078877  0.965034  0.983096\n",
      "1  0.636908  0.674697  0.431375  0.330668  0.683249\n",
      "2  0.690070  0.055085  0.025047  0.066381  0.392422\n",
      "3  0.956838  0.592932  0.884707  0.677090  0.008989\n",
      "[[0.65821951 0.89595497 0.07887714 0.96503379 0.98309632]\n",
      " [0.63690788 0.67469712 0.43137461 0.33066759 0.68324851]\n",
      " [0.69007033 0.05508545 0.02504654 0.06638085 0.39242232]\n",
      " [0.95683765 0.59293165 0.88470736 0.67709023 0.00898894]]\n"
     ]
    }
   ],
   "source": [
    "a = pd.DataFrame(np.random.rand(4, 5), columns = list('abcde'))\n",
    "a_asarray = a.values\n",
    "print(a)\n",
    "print(a_asarray)"
   ]
  },
  {
   "cell_type": "code",
   "execution_count": null,
   "id": "8178aaef-5e34-4433-b917-1b4b4df487ff",
   "metadata": {},
   "outputs": [],
   "source": []
  }
 ],
 "metadata": {
  "kernelspec": {
   "display_name": "Python 3",
   "language": "python",
   "name": "python3"
  },
  "language_info": {
   "codemirror_mode": {
    "name": "ipython",
    "version": 3
   },
   "file_extension": ".py",
   "mimetype": "text/x-python",
   "name": "python",
   "nbconvert_exporter": "python",
   "pygments_lexer": "ipython3",
   "version": "3.8.10"
  }
 },
 "nbformat": 4,
 "nbformat_minor": 5
}
